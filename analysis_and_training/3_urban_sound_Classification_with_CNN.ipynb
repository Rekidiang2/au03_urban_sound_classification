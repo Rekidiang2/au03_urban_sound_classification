{
 "cells": [
  {
   "cell_type": "markdown",
   "metadata": {},
   "source": [
    "# Diabetes Prediction - ML-Model\n",
    "\n",
    "#### Load preprocessed data, Build, Select, Train and Evaluate Models"
   ]
  },
  {
   "cell_type": "code",
   "execution_count": 2,
   "metadata": {},
   "outputs": [
    {
     "name": "stdout",
     "output_type": "stream",
     "text": [
      "Libraries Imported ..\n"
     ]
    }
   ],
   "source": [
    "from models_config import *\n",
    "import json\n",
    "import numpy as np\n",
    "import pandas as pd\n",
    "from sklearn.model_selection import train_test_split\n",
    "import tensorflow.keras as keras\n",
    "import matplotlib.pyplot as plt\n",
    "\n",
    "print(\"Libraries Imported ..\")"
   ]
  },
  {
   "cell_type": "markdown",
   "metadata": {},
   "source": [
    "## 1. Load Preprocessed Dataset"
   ]
  },
  {
   "cell_type": "code",
   "execution_count": 3,
   "metadata": {},
   "outputs": [],
   "source": [
    "DATA_PATH =  \"../data/prepared_data.json\"\n",
    "mfcc, labels = load_data(DATA_PATH)"
   ]
  },
  {
   "cell_type": "code",
   "execution_count": 4,
   "metadata": {},
   "outputs": [
    {
     "name": "stdout",
     "output_type": "stream",
     "text": [
      " MFCCs Shape : (8275, 44, 13) | Labels Length : 8275\n"
     ]
    }
   ],
   "source": [
    "print(f\" MFCCs Shape : {mfcc.shape} | Labels Length : {len(labels)}\")"
   ]
  },
  {
   "cell_type": "markdown",
   "metadata": {},
   "source": [
    "## 2. Data Preparation"
   ]
  },
  {
   "cell_type": "code",
   "execution_count": 5,
   "metadata": {},
   "outputs": [
    {
     "data": {
      "text/html": [
       "<div>\n",
       "<style scoped>\n",
       "    .dataframe tbody tr th:only-of-type {\n",
       "        vertical-align: middle;\n",
       "    }\n",
       "\n",
       "    .dataframe tbody tr th {\n",
       "        vertical-align: top;\n",
       "    }\n",
       "\n",
       "    .dataframe thead th {\n",
       "        text-align: right;\n",
       "    }\n",
       "</style>\n",
       "<table border=\"1\" class=\"dataframe\">\n",
       "  <thead>\n",
       "    <tr style=\"text-align: right;\">\n",
       "      <th></th>\n",
       "      <th>Training</th>\n",
       "      <th>Validation</th>\n",
       "      <th>Testing</th>\n",
       "    </tr>\n",
       "  </thead>\n",
       "  <tbody>\n",
       "    <tr>\n",
       "      <th>Features</th>\n",
       "      <td>(4964, 44, 13, 1)</td>\n",
       "      <td>(1242, 44, 13, 1)</td>\n",
       "      <td>(2069, 44, 13, 1)</td>\n",
       "    </tr>\n",
       "    <tr>\n",
       "      <th>Target</th>\n",
       "      <td>(4964,)</td>\n",
       "      <td>(1242,)</td>\n",
       "      <td>(2069,)</td>\n",
       "    </tr>\n",
       "  </tbody>\n",
       "</table>\n",
       "</div>"
      ],
      "text/plain": [
       "                   Training         Validation            Testing\n",
       "Features  (4964, 44, 13, 1)  (1242, 44, 13, 1)  (2069, 44, 13, 1)\n",
       "Target              (4964,)            (1242,)            (2069,)"
      ]
     },
     "execution_count": 5,
     "metadata": {},
     "output_type": "execute_result"
    }
   ],
   "source": [
    "X_train, X_validation, X_test, y_train, y_validation, y_test = prepare_datasets(0.25, 0.2, DATA_PATH)\n",
    "pd.DataFrame({\"Training\": [X_train.shape, y_train.shape], \n",
    "              \"Validation\":[X_validation.shape, y_validation.shape], \n",
    "              \"Testing\":[X_test.shape, y_test.shape]}, index=['Features', 'Target'])"
   ]
  },
  {
   "cell_type": "markdown",
   "metadata": {},
   "source": [
    "## 3. Build Model"
   ]
  },
  {
   "cell_type": "code",
   "execution_count": 6,
   "metadata": {},
   "outputs": [],
   "source": [
    "input_shape = (X_train.shape[1], X_train.shape[2], 1)\n",
    "model = build_cnn_model(input_shape)"
   ]
  },
  {
   "cell_type": "markdown",
   "metadata": {},
   "source": [
    "## 4. Compule Model"
   ]
  },
  {
   "cell_type": "code",
   "execution_count": 7,
   "metadata": {},
   "outputs": [],
   "source": [
    "lr, loss, metrics = 0.0001, 'sparse_categorical_crossentropy', 'accuracy'\n",
    "model = compule_model(lr, loss, metrics, model)"
   ]
  },
  {
   "cell_type": "markdown",
   "metadata": {},
   "source": [
    "## 5.  Model Summary"
   ]
  },
  {
   "cell_type": "code",
   "execution_count": 8,
   "metadata": {},
   "outputs": [
    {
     "name": "stdout",
     "output_type": "stream",
     "text": [
      "Model: \"sequential\"\n",
      "_________________________________________________________________\n",
      " Layer (type)                Output Shape              Param #   \n",
      "=================================================================\n",
      " conv2d (Conv2D)             (None, 42, 11, 32)        320       \n",
      "                                                                 \n",
      " max_pooling2d (MaxPooling2D  (None, 21, 6, 32)        0         \n",
      " )                                                               \n",
      "                                                                 \n",
      " batch_normalization (BatchN  (None, 21, 6, 32)        128       \n",
      " ormalization)                                                   \n",
      "                                                                 \n",
      " conv2d_1 (Conv2D)           (None, 19, 4, 32)         9248      \n",
      "                                                                 \n",
      " max_pooling2d_1 (MaxPooling  (None, 10, 2, 32)        0         \n",
      " 2D)                                                             \n",
      "                                                                 \n",
      " batch_normalization_1 (Batc  (None, 10, 2, 32)        128       \n",
      " hNormalization)                                                 \n",
      "                                                                 \n",
      " conv2d_2 (Conv2D)           (None, 9, 1, 32)          4128      \n",
      "                                                                 \n",
      " max_pooling2d_2 (MaxPooling  (None, 5, 1, 32)         0         \n",
      " 2D)                                                             \n",
      "                                                                 \n",
      " batch_normalization_2 (Batc  (None, 5, 1, 32)         128       \n",
      " hNormalization)                                                 \n",
      "                                                                 \n",
      " flatten (Flatten)           (None, 160)               0         \n",
      "                                                                 \n",
      " dense (Dense)               (None, 64)                10304     \n",
      "                                                                 \n",
      " dropout (Dropout)           (None, 64)                0         \n",
      "                                                                 \n",
      " dense_1 (Dense)             (None, 10)                650       \n",
      "                                                                 \n",
      "=================================================================\n",
      "Total params: 25,034\n",
      "Trainable params: 24,842\n",
      "Non-trainable params: 192\n",
      "_________________________________________________________________\n"
     ]
    }
   ],
   "source": [
    " model.summary()"
   ]
  },
  {
   "cell_type": "markdown",
   "metadata": {},
   "source": [
    "## 6. Train Model"
   ]
  },
  {
   "cell_type": "code",
   "execution_count": 9,
   "metadata": {},
   "outputs": [
    {
     "name": "stdout",
     "output_type": "stream",
     "text": [
      "Epoch 1/30\n",
      "156/156 [==============================] - 2s 11ms/step - loss: 2.7805 - accuracy: 0.0927 - val_loss: 2.3638 - val_accuracy: 0.0966\n",
      "Epoch 2/30\n",
      "156/156 [==============================] - 2s 10ms/step - loss: 2.5369 - accuracy: 0.1334 - val_loss: 2.3135 - val_accuracy: 0.1506\n",
      "Epoch 3/30\n",
      "156/156 [==============================] - 2s 10ms/step - loss: 2.4438 - accuracy: 0.1465 - val_loss: 2.2922 - val_accuracy: 0.1731\n",
      "Epoch 4/30\n",
      "156/156 [==============================] - 2s 10ms/step - loss: 2.3632 - accuracy: 0.1672 - val_loss: 2.2640 - val_accuracy: 0.1916\n",
      "Epoch 5/30\n",
      "156/156 [==============================] - 2s 10ms/step - loss: 2.3178 - accuracy: 0.1861 - val_loss: 2.2210 - val_accuracy: 0.2174\n",
      "Epoch 6/30\n",
      "156/156 [==============================] - 2s 10ms/step - loss: 2.2759 - accuracy: 0.1962 - val_loss: 2.2074 - val_accuracy: 0.2174\n",
      "Epoch 7/30\n",
      "156/156 [==============================] - 1s 9ms/step - loss: 2.2493 - accuracy: 0.2065 - val_loss: 2.1783 - val_accuracy: 0.2399\n",
      "Epoch 8/30\n",
      "156/156 [==============================] - 2s 10ms/step - loss: 2.2099 - accuracy: 0.2168 - val_loss: 2.1562 - val_accuracy: 0.2512\n",
      "Epoch 9/30\n",
      "156/156 [==============================] - 1s 9ms/step - loss: 2.1801 - accuracy: 0.2367 - val_loss: 2.1418 - val_accuracy: 0.2488\n",
      "Epoch 10/30\n",
      "156/156 [==============================] - 2s 10ms/step - loss: 2.1507 - accuracy: 0.2405 - val_loss: 2.1237 - val_accuracy: 0.2649\n",
      "Epoch 11/30\n",
      "156/156 [==============================] - 1s 9ms/step - loss: 2.1346 - accuracy: 0.2510 - val_loss: 2.1163 - val_accuracy: 0.2641\n",
      "Epoch 12/30\n",
      "156/156 [==============================] - 1s 9ms/step - loss: 2.1053 - accuracy: 0.2577 - val_loss: 2.0936 - val_accuracy: 0.2673\n",
      "Epoch 13/30\n",
      "156/156 [==============================] - 1s 10ms/step - loss: 2.1015 - accuracy: 0.2649 - val_loss: 2.0923 - val_accuracy: 0.2657\n",
      "Epoch 14/30\n",
      "156/156 [==============================] - 2s 10ms/step - loss: 2.0758 - accuracy: 0.2697 - val_loss: 2.0741 - val_accuracy: 0.2762\n",
      "Epoch 15/30\n",
      "156/156 [==============================] - 2s 10ms/step - loss: 2.0523 - accuracy: 0.2804 - val_loss: 2.0701 - val_accuracy: 0.2746\n",
      "Epoch 16/30\n",
      "156/156 [==============================] - 1s 9ms/step - loss: 2.0374 - accuracy: 0.2842 - val_loss: 2.0573 - val_accuracy: 0.2850\n",
      "Epoch 17/30\n",
      "156/156 [==============================] - 2s 10ms/step - loss: 2.0211 - accuracy: 0.2973 - val_loss: 2.0448 - val_accuracy: 0.2794\n",
      "Epoch 18/30\n",
      "156/156 [==============================] - 1s 10ms/step - loss: 2.0093 - accuracy: 0.3032 - val_loss: 2.0299 - val_accuracy: 0.2923\n",
      "Epoch 19/30\n",
      "156/156 [==============================] - 2s 10ms/step - loss: 1.9930 - accuracy: 0.3076 - val_loss: 2.0240 - val_accuracy: 0.3027\n",
      "Epoch 20/30\n",
      "156/156 [==============================] - 2s 10ms/step - loss: 1.9859 - accuracy: 0.3086 - val_loss: 2.0209 - val_accuracy: 0.2979\n",
      "Epoch 21/30\n",
      "156/156 [==============================] - 1s 10ms/step - loss: 1.9785 - accuracy: 0.3155 - val_loss: 2.0253 - val_accuracy: 0.2907\n",
      "Epoch 22/30\n",
      "156/156 [==============================] - 2s 10ms/step - loss: 1.9645 - accuracy: 0.3227 - val_loss: 1.9983 - val_accuracy: 0.3148\n",
      "Epoch 23/30\n",
      "156/156 [==============================] - 1s 9ms/step - loss: 1.9577 - accuracy: 0.3227 - val_loss: 1.9985 - val_accuracy: 0.3180\n",
      "Epoch 24/30\n",
      "156/156 [==============================] - 1s 10ms/step - loss: 1.9423 - accuracy: 0.3413 - val_loss: 1.9916 - val_accuracy: 0.3180\n",
      "Epoch 25/30\n",
      "156/156 [==============================] - 1s 9ms/step - loss: 1.9183 - accuracy: 0.3398 - val_loss: 1.9845 - val_accuracy: 0.3156\n",
      "Epoch 26/30\n",
      "156/156 [==============================] - 1s 10ms/step - loss: 1.9093 - accuracy: 0.3441 - val_loss: 1.9718 - val_accuracy: 0.3205\n",
      "Epoch 27/30\n",
      "156/156 [==============================] - 2s 10ms/step - loss: 1.9005 - accuracy: 0.3497 - val_loss: 1.9868 - val_accuracy: 0.3156\n",
      "Epoch 28/30\n",
      "156/156 [==============================] - 1s 9ms/step - loss: 1.8804 - accuracy: 0.3580 - val_loss: 1.9639 - val_accuracy: 0.3205\n",
      "Epoch 29/30\n",
      "156/156 [==============================] - 2s 10ms/step - loss: 1.8755 - accuracy: 0.3521 - val_loss: 1.9514 - val_accuracy: 0.3293\n",
      "Epoch 30/30\n",
      "156/156 [==============================] - 2s 10ms/step - loss: 1.8593 - accuracy: 0.3636 - val_loss: 1.9436 - val_accuracy: 0.3317\n"
     ]
    }
   ],
   "source": [
    "history = model.fit(X_train, y_train, validation_data=(X_validation, y_validation), batch_size=32, epochs=30)"
   ]
  },
  {
   "cell_type": "markdown",
   "metadata": {},
   "source": [
    "## 7. Plot Model Training History"
   ]
  },
  {
   "cell_type": "code",
   "execution_count": 10,
   "metadata": {},
   "outputs": [
    {
     "data": {
      "image/png": "[encoded data removed]",
      "text/plain": [
       "<Figure size 432x288 with 2 Axes>"
      ]
     },
     "metadata": {
      "needs_background": "light"
     },
     "output_type": "display_data"
    },
    {
     "data": {
      "text/plain": [
       "<Figure size 1152x576 with 0 Axes>"
      ]
     },
     "metadata": {},
     "output_type": "display_data"
    }
   ],
   "source": [
    "plot_history(history)"
   ]
  },
  {
   "cell_type": "markdown",
   "metadata": {},
   "source": [
    "## 8.  Evaluate Model on test set"
   ]
  },
  {
   "cell_type": "code",
   "execution_count": 12,
   "metadata": {},
   "outputs": [
    {
     "name": "stdout",
     "output_type": "stream",
     "text": [
      "65/65 - 0s - loss: 1.9301 - accuracy: 0.3349 - 215ms/epoch - 3ms/step\n"
     ]
    },
    {
     "data": {
      "text/html": [
       "<div>\n",
       "<style scoped>\n",
       "    .dataframe tbody tr th:only-of-type {\n",
       "        vertical-align: middle;\n",
       "    }\n",
       "\n",
       "    .dataframe tbody tr th {\n",
       "        vertical-align: top;\n",
       "    }\n",
       "\n",
       "    .dataframe thead th {\n",
       "        text-align: right;\n",
       "    }\n",
       "</style>\n",
       "<table border=\"1\" class=\"dataframe\">\n",
       "  <thead>\n",
       "    <tr style=\"text-align: right;\">\n",
       "      <th></th>\n",
       "      <th>Training</th>\n",
       "      <th>Validation</th>\n",
       "      <th>Testing</th>\n",
       "    </tr>\n",
       "  </thead>\n",
       "  <tbody>\n",
       "    <tr>\n",
       "      <th>Accuracy</th>\n",
       "      <td>45.63</td>\n",
       "      <td>33.17</td>\n",
       "      <td>0.334944</td>\n",
       "    </tr>\n",
       "    <tr>\n",
       "      <th>Loss</th>\n",
       "      <td>169.19</td>\n",
       "      <td>194.36</td>\n",
       "      <td>193.010000</td>\n",
       "    </tr>\n",
       "  </tbody>\n",
       "</table>\n",
       "</div>"
      ],
      "text/plain": [
       "          Training  Validation     Testing\n",
       "Accuracy     45.63       33.17    0.334944\n",
       "Loss        169.19      194.36  193.010000"
      ]
     },
     "execution_count": 12,
     "metadata": {},
     "output_type": "execute_result"
    }
   ],
   "source": [
    "model_loss_acc(model, X_train, y_train, X_test, y_test, X_validation, y_validation)"
   ]
  },
  {
   "cell_type": "markdown",
   "metadata": {},
   "source": [
    "## 9. Prediction"
   ]
  },
  {
   "cell_type": "code",
   "execution_count": 13,
   "metadata": {},
   "outputs": [
    {
     "name": "stdout",
     "output_type": "stream",
     "text": [
      "Target: 4, Predicted label: [7]\n"
     ]
    }
   ],
   "source": [
    "# pick a sample to predict from the test set\n",
    "X_to_predict = X_test[100]\n",
    "y_to_predict = y_test[100]\n",
    "\n",
    "# predict sample\n",
    "predict(model, X_to_predict, y_to_predict)"
   ]
  },
  {
   "cell_type": "markdown",
   "metadata": {},
   "source": [
    "#####################################################################################################\n",
    "\n",
    "#####################################################################################################\n",
    "\n",
    "#####################################################################################################"
   ]
  }
 ],
 "metadata": {
  "interpreter": {
   "hash": "0f41837b71f60bd94f8ed6a7c2b96fa94fca1d7e7eb0c540ccc40c5f621445f1"
  },
  "kernelspec": {
   "display_name": "au01_kernel2",
   "language": "python",
   "name": "python3"
  },
  "language_info": {
   "codemirror_mode": {
    "name": "ipython",
    "version": 3
   },
   "file_extension": ".py",
   "mimetype": "text/x-python",
   "name": "python",
   "nbconvert_exporter": "python",
   "pygments_lexer": "ipython3",
   "version": "3.9.7"
  }
 },
 "nbformat": 4,
 "nbformat_minor": 4
}
