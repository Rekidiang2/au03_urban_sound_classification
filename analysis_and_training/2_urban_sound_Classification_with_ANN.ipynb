{
 "cells": [
  {
   "cell_type": "markdown",
   "metadata": {},
   "source": [
    "# Diabetes Prediction - ML-Model\n",
    "\n",
    "#### Load preprocessed data, Build, Select, Train and Evaluate Models"
   ]
  },
  {
   "cell_type": "code",
   "execution_count": 1,
   "metadata": {},
   "outputs": [
    {
     "name": "stdout",
     "output_type": "stream",
     "text": [
      "Libraries Imported ..\n"
     ]
    }
   ],
   "source": [
    "from models_config import *\n",
    "import json\n",
    "import numpy as np\n",
    "import pandas as pd\n",
    "from sklearn.model_selection import train_test_split\n",
    "import tensorflow.keras as keras\n",
    "import matplotlib.pyplot as plt\n",
    "\n",
    "print(\"Libraries Imported ..\")"
   ]
  },
  {
   "cell_type": "markdown",
   "metadata": {},
   "source": [
    "## 1. Load Preprocessed Dataset"
   ]
  },
  {
   "cell_type": "code",
   "execution_count": 2,
   "metadata": {},
   "outputs": [],
   "source": [
    "DATA_PATH =  \"../data/prepared_data.json\"\n",
    "mfcc, labels = load_data(DATA_PATH)"
   ]
  },
  {
   "cell_type": "code",
   "execution_count": 3,
   "metadata": {},
   "outputs": [
    {
     "name": "stdout",
     "output_type": "stream",
     "text": [
      " MFCCs Shape : (8275, 44, 13) | Labels Length : 8275\n"
     ]
    }
   ],
   "source": [
    "print(f\" MFCCs Shape : {mfcc.shape} | Labels Length : {len(labels)}\")"
   ]
  },
  {
   "cell_type": "markdown",
   "metadata": {},
   "source": [
    "## 2. Data Preparation"
   ]
  },
  {
   "cell_type": "code",
   "execution_count": 4,
   "metadata": {},
   "outputs": [
    {
     "data": {
      "text/html": [
       "<div>\n",
       "<style scoped>\n",
       "    .dataframe tbody tr th:only-of-type {\n",
       "        vertical-align: middle;\n",
       "    }\n",
       "\n",
       "    .dataframe tbody tr th {\n",
       "        vertical-align: top;\n",
       "    }\n",
       "\n",
       "    .dataframe thead th {\n",
       "        text-align: right;\n",
       "    }\n",
       "</style>\n",
       "<table border=\"1\" class=\"dataframe\">\n",
       "  <thead>\n",
       "    <tr style=\"text-align: right;\">\n",
       "      <th></th>\n",
       "      <th>Training</th>\n",
       "      <th>Validation</th>\n",
       "      <th>Testing</th>\n",
       "    </tr>\n",
       "  </thead>\n",
       "  <tbody>\n",
       "    <tr>\n",
       "      <th>Features</th>\n",
       "      <td>(4964, 44, 13, 1)</td>\n",
       "      <td>(1242, 44, 13, 1)</td>\n",
       "      <td>(2069, 44, 13, 1)</td>\n",
       "    </tr>\n",
       "    <tr>\n",
       "      <th>Target</th>\n",
       "      <td>(4964,)</td>\n",
       "      <td>(1242,)</td>\n",
       "      <td>(2069,)</td>\n",
       "    </tr>\n",
       "  </tbody>\n",
       "</table>\n",
       "</div>"
      ],
      "text/plain": [
       "                   Training         Validation            Testing\n",
       "Features  (4964, 44, 13, 1)  (1242, 44, 13, 1)  (2069, 44, 13, 1)\n",
       "Target              (4964,)            (1242,)            (2069,)"
      ]
     },
     "execution_count": 4,
     "metadata": {},
     "output_type": "execute_result"
    }
   ],
   "source": [
    "X_train, X_validation, X_test, y_train, y_validation, y_test = prepare_datasets(0.25, 0.2, DATA_PATH)\n",
    "pd.DataFrame({\"Training\": [X_train.shape, y_train.shape], \n",
    "              \"Validation\":[X_validation.shape, y_validation.shape], \n",
    "              \"Testing\":[X_test.shape, y_test.shape]}, index=['Features', 'Target'])"
   ]
  },
  {
   "cell_type": "markdown",
   "metadata": {},
   "source": [
    "## 3. Build Model"
   ]
  },
  {
   "cell_type": "code",
   "execution_count": 5,
   "metadata": {},
   "outputs": [],
   "source": [
    "input_shape = (X_train.shape[1], X_train.shape[2], 1)\n",
    "model = build_ann_model(input_shape)"
   ]
  },
  {
   "cell_type": "markdown",
   "metadata": {},
   "source": [
    "## 4. Compule Model"
   ]
  },
  {
   "cell_type": "code",
   "execution_count": 6,
   "metadata": {},
   "outputs": [],
   "source": [
    "lr, loss, metrics = 0.0001, 'sparse_categorical_crossentropy', 'accuracy'\n",
    "model = compule_model(lr, loss, metrics, model)"
   ]
  },
  {
   "cell_type": "markdown",
   "metadata": {},
   "source": [
    "## 5.  Model Summary"
   ]
  },
  {
   "cell_type": "code",
   "execution_count": 7,
   "metadata": {},
   "outputs": [
    {
     "name": "stdout",
     "output_type": "stream",
     "text": [
      "Model: \"sequential\"\n",
      "_________________________________________________________________\n",
      " Layer (type)                Output Shape              Param #   \n",
      "=================================================================\n",
      " flatten (Flatten)           (None, 572)               0         \n",
      "                                                                 \n",
      " dense (Dense)               (None, 512)               293376    \n",
      "                                                                 \n",
      " dropout (Dropout)           (None, 512)               0         \n",
      "                                                                 \n",
      " dense_1 (Dense)             (None, 256)               131328    \n",
      "                                                                 \n",
      " dropout_1 (Dropout)         (None, 256)               0         \n",
      "                                                                 \n",
      " dense_2 (Dense)             (None, 64)                16448     \n",
      "                                                                 \n",
      " dropout_2 (Dropout)         (None, 64)                0         \n",
      "                                                                 \n",
      " dense_3 (Dense)             (None, 10)                650       \n",
      "                                                                 \n",
      "=================================================================\n",
      "Total params: 441,802\n",
      "Trainable params: 441,802\n",
      "Non-trainable params: 0\n",
      "_________________________________________________________________\n"
     ]
    }
   ],
   "source": [
    " model.summary()"
   ]
  },
  {
   "cell_type": "markdown",
   "metadata": {},
   "source": [
    "## 6. Train Model"
   ]
  },
  {
   "cell_type": "code",
   "execution_count": 8,
   "metadata": {},
   "outputs": [
    {
     "name": "stdout",
     "output_type": "stream",
     "text": [
      "Epoch 1/30\n",
      "156/156 [==============================] - 1s 7ms/step - loss: 35.7297 - accuracy: 0.1017 - val_loss: 3.3452 - val_accuracy: 0.0886\n",
      "Epoch 2/30\n",
      "156/156 [==============================] - 1s 5ms/step - loss: 8.1139 - accuracy: 0.1003 - val_loss: 3.2707 - val_accuracy: 0.0950\n",
      "Epoch 3/30\n",
      "156/156 [==============================] - 1s 5ms/step - loss: 4.9712 - accuracy: 0.0935 - val_loss: 3.2708 - val_accuracy: 0.0966\n",
      "Epoch 4/30\n",
      "156/156 [==============================] - 1s 5ms/step - loss: 4.1753 - accuracy: 0.0957 - val_loss: 3.2692 - val_accuracy: 0.0982\n",
      "Epoch 5/30\n",
      "156/156 [==============================] - 1s 4ms/step - loss: 3.8467 - accuracy: 0.1227 - val_loss: 3.2672 - val_accuracy: 0.0982\n",
      "Epoch 6/30\n",
      "156/156 [==============================] - 1s 4ms/step - loss: 3.5747 - accuracy: 0.1195 - val_loss: 3.2649 - val_accuracy: 0.0982\n",
      "Epoch 7/30\n",
      "156/156 [==============================] - 1s 4ms/step - loss: 3.4884 - accuracy: 0.1215 - val_loss: 3.2625 - val_accuracy: 0.0982\n",
      "Epoch 8/30\n",
      "156/156 [==============================] - 1s 4ms/step - loss: 3.4556 - accuracy: 0.1237 - val_loss: 3.2599 - val_accuracy: 0.0982\n",
      "Epoch 9/30\n",
      "156/156 [==============================] - 1s 4ms/step - loss: 3.4150 - accuracy: 0.1207 - val_loss: 3.2571 - val_accuracy: 0.0982\n",
      "Epoch 10/30\n",
      "156/156 [==============================] - 1s 4ms/step - loss: 3.3872 - accuracy: 0.1223 - val_loss: 3.2541 - val_accuracy: 0.0982\n",
      "Epoch 11/30\n",
      "156/156 [==============================] - 1s 4ms/step - loss: 3.3406 - accuracy: 0.1217 - val_loss: 3.2509 - val_accuracy: 0.0982\n",
      "Epoch 12/30\n",
      "156/156 [==============================] - 1s 4ms/step - loss: 3.3623 - accuracy: 0.1205 - val_loss: 3.2476 - val_accuracy: 0.0982\n",
      "Epoch 13/30\n",
      "156/156 [==============================] - 1s 4ms/step - loss: 3.2972 - accuracy: 0.1203 - val_loss: 3.2439 - val_accuracy: 0.0982\n",
      "Epoch 14/30\n",
      "156/156 [==============================] - 1s 4ms/step - loss: 3.2998 - accuracy: 0.1217 - val_loss: 3.2401 - val_accuracy: 0.0982\n",
      "Epoch 15/30\n",
      "156/156 [==============================] - 1s 4ms/step - loss: 3.2811 - accuracy: 0.1225 - val_loss: 3.2360 - val_accuracy: 0.0982\n",
      "Epoch 16/30\n",
      "156/156 [==============================] - 1s 4ms/step - loss: 3.2637 - accuracy: 0.1195 - val_loss: 3.2317 - val_accuracy: 0.0982\n",
      "Epoch 17/30\n",
      "156/156 [==============================] - 1s 4ms/step - loss: 3.2558 - accuracy: 0.1221 - val_loss: 3.2270 - val_accuracy: 0.0982\n",
      "Epoch 18/30\n",
      "156/156 [==============================] - 1s 4ms/step - loss: 3.2561 - accuracy: 0.1215 - val_loss: 3.2221 - val_accuracy: 0.0982\n",
      "Epoch 19/30\n",
      "156/156 [==============================] - 1s 4ms/step - loss: 3.2483 - accuracy: 0.1215 - val_loss: 3.2170 - val_accuracy: 0.0982\n",
      "Epoch 20/30\n",
      "156/156 [==============================] - 1s 4ms/step - loss: 3.2505 - accuracy: 0.1195 - val_loss: 3.2116 - val_accuracy: 0.0982\n",
      "Epoch 21/30\n",
      "156/156 [==============================] - 1s 4ms/step - loss: 3.2286 - accuracy: 0.1205 - val_loss: 3.2058 - val_accuracy: 0.0982\n",
      "Epoch 22/30\n",
      "156/156 [==============================] - 1s 4ms/step - loss: 3.2183 - accuracy: 0.1217 - val_loss: 3.1997 - val_accuracy: 0.0982\n",
      "Epoch 23/30\n",
      "156/156 [==============================] - 1s 4ms/step - loss: 3.2204 - accuracy: 0.1227 - val_loss: 3.1932 - val_accuracy: 0.0982\n",
      "Epoch 24/30\n",
      "156/156 [==============================] - 1s 4ms/step - loss: 3.1987 - accuracy: 0.1225 - val_loss: 3.1864 - val_accuracy: 0.0982\n",
      "Epoch 25/30\n",
      "156/156 [==============================] - 1s 4ms/step - loss: 3.1967 - accuracy: 0.1215 - val_loss: 3.1794 - val_accuracy: 0.0982\n",
      "Epoch 26/30\n",
      "156/156 [==============================] - 1s 4ms/step - loss: 3.1844 - accuracy: 0.1215 - val_loss: 3.1720 - val_accuracy: 0.0982\n",
      "Epoch 27/30\n",
      "156/156 [==============================] - 1s 4ms/step - loss: 3.1733 - accuracy: 0.1221 - val_loss: 3.1642 - val_accuracy: 0.0982\n",
      "Epoch 28/30\n",
      "156/156 [==============================] - 1s 4ms/step - loss: 3.1706 - accuracy: 0.1219 - val_loss: 3.1561 - val_accuracy: 0.0982\n",
      "Epoch 29/30\n",
      "156/156 [==============================] - 1s 4ms/step - loss: 3.1552 - accuracy: 0.1231 - val_loss: 3.1476 - val_accuracy: 0.0982\n",
      "Epoch 30/30\n",
      "156/156 [==============================] - 1s 4ms/step - loss: 3.1460 - accuracy: 0.1225 - val_loss: 3.1388 - val_accuracy: 0.0982\n"
     ]
    }
   ],
   "source": [
    "history = model.fit(X_train, y_train, validation_data=(X_validation, y_validation), batch_size=32, epochs=30)"
   ]
  },
  {
   "cell_type": "markdown",
   "metadata": {},
   "source": [
    "## 7. Plot Model Training History"
   ]
  },
  {
   "cell_type": "code",
   "execution_count": 9,
   "metadata": {},
   "outputs": [
    {
     "data": {
      "image/png": "[encoded data removed]",
      "text/plain": [
       "<Figure size 432x288 with 2 Axes>"
      ]
     },
     "metadata": {
      "needs_background": "light"
     },
     "output_type": "display_data"
    },
    {
     "data": {
      "text/plain": [
       "<Figure size 1152x576 with 0 Axes>"
      ]
     },
     "metadata": {},
     "output_type": "display_data"
    }
   ],
   "source": [
    "plot_history(history)"
   ]
  },
  {
   "cell_type": "markdown",
   "metadata": {},
   "source": [
    "## 8.  Evaluate Model on test set"
   ]
  },
  {
   "cell_type": "code",
   "execution_count": 10,
   "metadata": {},
   "outputs": [
    {
     "name": "stdout",
     "output_type": "stream",
     "text": [
      "65/65 - 0s - loss: 3.1399 - accuracy: 0.1097 - 103ms/epoch - 2ms/step\n"
     ]
    },
    {
     "data": {
      "text/html": [
       "<div>\n",
       "<style scoped>\n",
       "    .dataframe tbody tr th:only-of-type {\n",
       "        vertical-align: middle;\n",
       "    }\n",
       "\n",
       "    .dataframe tbody tr th {\n",
       "        vertical-align: top;\n",
       "    }\n",
       "\n",
       "    .dataframe thead th {\n",
       "        text-align: right;\n",
       "    }\n",
       "</style>\n",
       "<table border=\"1\" class=\"dataframe\">\n",
       "  <thead>\n",
       "    <tr style=\"text-align: right;\">\n",
       "      <th></th>\n",
       "      <th>Training</th>\n",
       "      <th>Validation</th>\n",
       "      <th>Testing</th>\n",
       "    </tr>\n",
       "  </thead>\n",
       "  <tbody>\n",
       "    <tr>\n",
       "      <th>Accuracy</th>\n",
       "      <td>12.33</td>\n",
       "      <td>9.82</td>\n",
       "      <td>0.109715</td>\n",
       "    </tr>\n",
       "    <tr>\n",
       "      <th>Loss</th>\n",
       "      <td>313.32</td>\n",
       "      <td>313.88</td>\n",
       "      <td>313.990000</td>\n",
       "    </tr>\n",
       "  </tbody>\n",
       "</table>\n",
       "</div>"
      ],
      "text/plain": [
       "          Training  Validation     Testing\n",
       "Accuracy     12.33        9.82    0.109715\n",
       "Loss        313.32      313.88  313.990000"
      ]
     },
     "execution_count": 10,
     "metadata": {},
     "output_type": "execute_result"
    }
   ],
   "source": [
    "model_loss_acc(model, X_train, y_train, X_test, y_test, X_validation, y_validation)"
   ]
  },
  {
   "cell_type": "markdown",
   "metadata": {},
   "source": [
    "## 9. Prediction"
   ]
  },
  {
   "cell_type": "code",
   "execution_count": 11,
   "metadata": {},
   "outputs": [
    {
     "name": "stdout",
     "output_type": "stream",
     "text": [
      "Target: 8, Predicted label: [4]\n"
     ]
    }
   ],
   "source": [
    "# pick a sample to predict from the test set\n",
    "X_to_predict = X_test[100]\n",
    "y_to_predict = y_test[100]\n",
    "\n",
    "# predict sample\n",
    "predict(model, X_to_predict, y_to_predict)"
   ]
  },
  {
   "cell_type": "markdown",
   "metadata": {},
   "source": [
    "#####################################################################################################\n",
    "\n",
    "#####################################################################################################\n",
    "\n",
    "#####################################################################################################"
   ]
  }
 ],
 "metadata": {
  "interpreter": {
   "hash": "c8596df7383757fb7be6bb0c50c4c18b49d4cdd8b262305afad233f5a1f9816b"
  },
  "kernelspec": {
   "display_name": "au01_kernel2",
   "language": "python",
   "name": "python3"
  },
  "language_info": {
   "codemirror_mode": {
    "name": "ipython",
    "version": 3
   },
   "file_extension": ".py",
   "mimetype": "text/x-python",
   "name": "python",
   "nbconvert_exporter": "python",
   "pygments_lexer": "ipython3",
   "version": "3.9.7"
  }
 },
 "nbformat": 4,
 "nbformat_minor": 4
}
